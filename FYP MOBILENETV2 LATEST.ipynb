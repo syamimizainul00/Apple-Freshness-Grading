{
 "cells": [
  {
   "cell_type": "code",
   "execution_count": 1,
   "id": "bc4ac247",
   "metadata": {},
   "outputs": [],
   "source": [
    "import os\n",
    "train_dir = os.path.join('C:/Users/User/Documents/DATASET FAHAD/train')\n",
    "test_dir = os.path.join('C:/Users/User/Documents/DATASET FAHAD/test')"
   ]
  },
  {
   "cell_type": "code",
   "execution_count": 2,
   "id": "e1cbb2c5",
   "metadata": {},
   "outputs": [
    {
     "name": "stdout",
     "output_type": "stream",
     "text": [
      "Total training fresh apples images: 1144\n",
      "\n",
      "Total training medium fresh apple images: 1001\n",
      "\n",
      "Total training rotten apples images: 1014\n"
     ]
    }
   ],
   "source": [
    "freshapples_dir = os.path.join('C:/Users/User/Documents/DATASET FAHAD/train/freshapples')\n",
    "mediumfresh_dir = os.path.join('C:/Users/User/Documents/DATASET FAHAD/train/mediumfresh')\n",
    "rottenapples_dir = os.path.join('C:/Users/User/Documents/DATASET FAHAD/train/rottenapples')\n",
    "\n",
    "\n",
    "print('Total training fresh apples images:', len(os.listdir(freshapples_dir)))\n",
    "print('\\nTotal training medium fresh apple images:', len(os.listdir(mediumfresh_dir)))\n",
    "print('\\nTotal training rotten apples images:', len(os.listdir(rottenapples_dir)))"
   ]
  },
  {
   "cell_type": "code",
   "execution_count": 3,
   "id": "a150c3e6",
   "metadata": {},
   "outputs": [],
   "source": [
    "import warnings\n",
    "warnings.filterwarnings('ignore')\n",
    "import os\n",
    "import numpy as np \n",
    "import pandas as pd \n",
    "import matplotlib.pyplot as plt \n",
    "import seaborn as sb \n",
    "from tensorflow.keras.utils import to_categorical\n",
    "from keras.preprocessing.image import ImageDataGenerator\n",
    "from tensorflow.keras.utils import load_img\n",
    "from tensorflow.keras.callbacks import EarlyStopping,ModelCheckpoint\n",
    "from sklearn.model_selection import train_test_split\n",
    "import matplotlib.pyplot as plt\n",
    "from keras.models import Model,Sequential\n",
    "from keras.layers import Conv2D, GlobalAveragePooling2D, Dropout, Flatten, Dense, Activation,GlobalMaxPooling2D\n",
    "from tensorflow.keras.applications.inception_v3 import InceptionV3\n",
    "from sklearn.metrics import confusion_matrix,classification_report\n",
    "from tensorflow.keras.optimizers import Adam\n",
    "from tensorflow.keras import layers\n",
    "from tensorflow.keras import Model\n"
   ]
  },
  {
   "cell_type": "code",
   "execution_count": 4,
   "id": "febc1df8",
   "metadata": {},
   "outputs": [],
   "source": [
    "import tensorflow as tf\n",
    "import keras_preprocessing\n",
    "from keras_preprocessing import image\n",
    "from keras_preprocessing.image import ImageDataGenerator\n"
   ]
  },
  {
   "cell_type": "code",
   "execution_count": 5,
   "id": "13beae12",
   "metadata": {},
   "outputs": [
    {
     "name": "stdout",
     "output_type": "stream",
     "text": [
      "Found 3159 images belonging to 3 classes.\n",
      "Found 1260 images belonging to 3 classes.\n"
     ]
    }
   ],
   "source": [
    "\n",
    "# this is the augmentation configuration for training\n",
    "training_datagen = ImageDataGenerator(\n",
    "        rescale = 1./255,                        #normalize\n",
    "        rotation_range=40,\n",
    "        width_shift_range=0.2,\n",
    "        height_shift_range=0.2,\n",
    "        shear_range=0.2,\n",
    "        zoom_range=0.2,\n",
    "        horizontal_flip=True,\n",
    "        fill_mode='nearest')\n",
    "\n",
    "\n",
    "# this is the augmentation configuration for testing:\n",
    "# only rescaling\n",
    "validation_datagen = ImageDataGenerator(rescale = 1./255) #normalize\n",
    "\n",
    "\n",
    "# this is a generator that will read pictures found in subfolers of 'TRAINING_DIR', and indefinitely generate batches of augmented image data\n",
    "train_generator = training_datagen.flow_from_directory(\n",
    "    train_dir,                   # this is the target directory\n",
    "    target_size=(224,224),          # all images will be resized to 224x224\n",
    "    class_mode='categorical',       # since i use categorical_crossentropy loss, i need categorical labels\n",
    "    batch_size= 100                  \n",
    ")\n",
    "\n",
    "validation_generator = validation_datagen.flow_from_directory(\n",
    "    test_dir,\n",
    "    target_size=(224,224),\n",
    "    class_mode='categorical',\n",
    "    batch_size= 50,\n",
    "    shuffle=False\n",
    "    \n",
    ")"
   ]
  },
  {
   "cell_type": "code",
   "execution_count": 6,
   "id": "fc7cec00",
   "metadata": {},
   "outputs": [
    {
     "data": {
      "text/plain": [
       "{0: 'freshapples', 1: 'mediumfresh', 2: 'rottenapples'}"
      ]
     },
     "execution_count": 6,
     "metadata": {},
     "output_type": "execute_result"
    }
   ],
   "source": [
    "#get classes dict \n",
    "classes_dict = dict(validation_generator.class_indices)\n",
    "#reverse \n",
    "classes_dict = {v: k for k,v in classes_dict.items()}\n",
    "\n",
    "classes_dict\n"
   ]
  },
  {
   "cell_type": "code",
   "execution_count": 7,
   "id": "b887c828",
   "metadata": {},
   "outputs": [
    {
     "name": "stdout",
     "output_type": "stream",
     "text": [
      "Downloading data from https://storage.googleapis.com/tensorflow/keras-applications/mobilenet_v2/mobilenet_v2_weights_tf_dim_ordering_tf_kernels_1.0_224_no_top.h5\n",
      "9406464/9406464 [==============================] - 1s 0us/step\n"
     ]
    }
   ],
   "source": [
    "from tensorflow import keras\n",
    "from tensorflow.keras.applications.mobilenet_v2 import MobileNetV2\n",
    "\n",
    "# Load the base model\n",
    "mbnet_v2 = MobileNetV2(\n",
    "    weights=\"imagenet\",\n",
    "    include_top=False,\n",
    "    input_shape=(224,224,3)\n",
    ")\n",
    "\n",
    "# Stop from being trainable\n",
    "mbnet_v2.trainable = False"
   ]
  },
  {
   "cell_type": "code",
   "execution_count": 8,
   "id": "775b696d",
   "metadata": {},
   "outputs": [
    {
     "name": "stdout",
     "output_type": "stream",
     "text": [
      "Model: \"model\"\n",
      "_________________________________________________________________\n",
      " Layer (type)                Output Shape              Param #   \n",
      "=================================================================\n",
      " input_2 (InputLayer)        [(None, 224, 224, 3)]     0         \n",
      "                                                                 \n",
      " mobilenetv2_1.00_224 (Funct  (None, 7, 7, 1280)       2257984   \n",
      " ional)                                                          \n",
      "                                                                 \n",
      " global_average_pooling2d (G  (None, 1280)             0         \n",
      " lobalAveragePooling2D)                                          \n",
      "                                                                 \n",
      " dropout (Dropout)           (None, 1280)              0         \n",
      "                                                                 \n",
      " dense (Dense)               (None, 3)                 3843      \n",
      "                                                                 \n",
      "=================================================================\n",
      "Total params: 2,261,827\n",
      "Trainable params: 3,843\n",
      "Non-trainable params: 2,257,984\n",
      "_________________________________________________________________\n"
     ]
    }
   ],
   "source": [
    "# Define the layers\n",
    "inputs = keras.Input(shape=(224,224,3))\n",
    "\n",
    "# Get the layer\n",
    "x = mbnet_v2(inputs, training = False)\n",
    "\n",
    "# Stack layers further\n",
    "x = layers.GlobalAveragePooling2D()(x)\n",
    "x = layers.Dropout(0.2)(x)\n",
    "x = layers.Dense(3, activation=\"softmax\")(x)\n",
    "\n",
    "# Combine the model\n",
    "model = Model(inputs=inputs, outputs=x)\n",
    "\n",
    "# Summary\n",
    "model.summary()"
   ]
  },
  {
   "cell_type": "code",
   "execution_count": 9,
   "id": "f6bf2479",
   "metadata": {},
   "outputs": [
    {
     "data": {
      "text/plain": [
       "5"
      ]
     },
     "execution_count": 9,
     "metadata": {},
     "output_type": "execute_result"
    }
   ],
   "source": [
    "len(model.layers)"
   ]
  },
  {
   "cell_type": "code",
   "execution_count": 10,
   "id": "4ed96c03",
   "metadata": {},
   "outputs": [],
   "source": [
    "adam = tf.keras.optimizers.Adam(\n",
    "    learning_rate=0.001, beta_1=0.9, beta_2=0.999, epsilon=1e-07, amsgrad=False)\n",
    "\n",
    "model.compile(optimizer = adam, \n",
    "              loss = 'categorical_crossentropy', \n",
    "              metrics = ['accuracy'])"
   ]
  },
  {
   "cell_type": "code",
   "execution_count": 11,
   "id": "533e5e36",
   "metadata": {},
   "outputs": [],
   "source": [
    "early = tf.keras.callbacks.EarlyStopping( patience=2,\n",
    "                                          monitor='loss')\n",
    "# early stopping call back"
   ]
  },
  {
   "cell_type": "code",
   "execution_count": 12,
   "id": "6cc9be8b",
   "metadata": {},
   "outputs": [
    {
     "name": "stdout",
     "output_type": "stream",
     "text": [
      "Epoch 1/10\n",
      "31/31 [==============================] - 222s 7s/step - loss: 0.7308 - accuracy: 0.6927 - val_loss: 0.4531 - val_accuracy: 0.8096\n",
      "Epoch 2/10\n",
      "31/31 [==============================] - 183s 6s/step - loss: 0.4085 - accuracy: 0.8558 - val_loss: 0.3342 - val_accuracy: 0.8736\n",
      "Epoch 3/10\n",
      "31/31 [==============================] - 177s 6s/step - loss: 0.3403 - accuracy: 0.8817 - val_loss: 0.3072 - val_accuracy: 0.8840\n",
      "Epoch 4/10\n",
      "31/31 [==============================] - 174s 6s/step - loss: 0.2992 - accuracy: 0.8931 - val_loss: 0.2643 - val_accuracy: 0.9120\n",
      "Epoch 5/10\n",
      "31/31 [==============================] - 175s 6s/step - loss: 0.2764 - accuracy: 0.9019 - val_loss: 0.2453 - val_accuracy: 0.9168\n",
      "Epoch 6/10\n",
      "31/31 [==============================] - 199s 6s/step - loss: 0.2458 - accuracy: 0.9137 - val_loss: 0.2279 - val_accuracy: 0.9264\n",
      "Epoch 7/10\n",
      "31/31 [==============================] - 176s 6s/step - loss: 0.2354 - accuracy: 0.9179 - val_loss: 0.2265 - val_accuracy: 0.9216\n",
      "Epoch 8/10\n",
      "31/31 [==============================] - 174s 6s/step - loss: 0.2360 - accuracy: 0.9130 - val_loss: 0.2083 - val_accuracy: 0.9240\n",
      "Epoch 9/10\n",
      "31/31 [==============================] - 193s 6s/step - loss: 0.2212 - accuracy: 0.9203 - val_loss: 0.1947 - val_accuracy: 0.9368\n",
      "Epoch 10/10\n",
      "31/31 [==============================] - 335s 11s/step - loss: 0.1993 - accuracy: 0.9291 - val_loss: 0.2012 - val_accuracy: 0.9256\n"
     ]
    }
   ],
   "source": [
    "steps_per_epoch = 3159 // 100 #training set // batch size\n",
    "\n",
    "validation_steps = 1260 // 50 #testing set // batch size\n",
    "\n",
    "history = model.fit(\n",
    "            train_generator,\n",
    "            validation_data = validation_generator,\n",
    "            steps_per_epoch = steps_per_epoch,\n",
    "            epochs = 10,\n",
    "            validation_steps = validation_steps,\n",
    "            verbose = 1,\n",
    "            callbacks=[early])"
   ]
  },
  {
   "cell_type": "code",
   "execution_count": 13,
   "id": "47602cfa",
   "metadata": {},
   "outputs": [],
   "source": [
    "tf.keras.models.save_model(model,'mobilenetV2_model.hdf5')"
   ]
  },
  {
   "cell_type": "code",
   "execution_count": 14,
   "id": "474818cb",
   "metadata": {},
   "outputs": [
    {
     "data": {
      "image/png": "[encoded data removed]",
      "text/plain": [
       "<Figure size 600x400 with 1 Axes>"
      ]
     },
     "metadata": {},
     "output_type": "display_data"
    }
   ],
   "source": [
    "import matplotlib.pyplot as plt\n",
    "acc = history.history['accuracy']\n",
    "val_acc = history.history['val_accuracy']\n",
    "loss = history.history['loss']\n",
    "val_loss = history.history['val_loss']\n",
    "\n",
    "epochs = range(len(acc))\n",
    "\n",
    "plt.style.use('seaborn-whitegrid')\n",
    "plt.figure(dpi = 100)\n",
    "plt.plot(epochs, acc, 'r', label='Training accuracy')\n",
    "plt.plot(epochs, val_acc, 'b', label='Validation accuracy')\n",
    "plt.title('Training and validation accuracy')\n",
    "plt.legend(loc=0)\n",
    "plt.show();"
   ]
  },
  {
   "cell_type": "code",
   "execution_count": 15,
   "id": "5d68100c",
   "metadata": {},
   "outputs": [
    {
     "data": {
      "image/png": "[encoded data removed]",
      "text/plain": [
       "<Figure size 600x400 with 1 Axes>"
      ]
     },
     "metadata": {},
     "output_type": "display_data"
    }
   ],
   "source": [
    "epochs = range(len(loss))\n",
    "\n",
    "plt.style.use('seaborn-whitegrid')\n",
    "plt.figure(dpi = 100)\n",
    "plt.plot(epochs, loss, 'r', label='Training loss')\n",
    "plt.plot(epochs, val_loss, 'b', label='Validation loss')\n",
    "plt.title('Training and validation loss')\n",
    "plt.legend(loc=0)\n",
    "plt.show();"
   ]
  },
  {
   "cell_type": "code",
   "execution_count": 16,
   "id": "7ebd8325",
   "metadata": {},
   "outputs": [
    {
     "name": "stdout",
     "output_type": "stream",
     "text": [
      "26/26 [==============================] - 81s 3s/step\n"
     ]
    },
    {
     "data": {
      "image/png": "[encoded data removed]",
      "text/plain": [
       "<Figure size 864x720 with 2 Axes>"
      ]
     },
     "metadata": {},
     "output_type": "display_data"
    }
   ],
   "source": [
    "class_names = list(classes_dict.values())\n",
    "labels = validation_generator.classes\n",
    "preds =  model.predict(validation_generator)\n",
    "predictions = np.argmax(preds, axis=1)\n",
    "#show the confusion matrix \n",
    "conf_matrix = confusion_matrix(labels, predictions) \n",
    "# plot the confusion matrix\n",
    "fig,ax = plt.subplots(figsize=(12, 10))\n",
    "sb.heatmap(conf_matrix, annot=True, linewidths=0.01,cmap=\"magma\",linecolor=\"gray\", fmt= '.1f',ax=ax)\n",
    "plt.xlabel(\"Predicted Class\")\n",
    "plt.ylabel(\"True Class\")\n",
    "plt.title(\"Confusion Matrix\")\n",
    "ax.set_xticklabels(labels = class_names,fontdict=None)\n",
    "ax.set_yticklabels(labels = class_names,fontdict=None)\n",
    "plt.show()"
   ]
  },
  {
   "cell_type": "code",
   "execution_count": 17,
   "id": "bbce548f",
   "metadata": {},
   "outputs": [
    {
     "name": "stdout",
     "output_type": "stream",
     "text": [
      "26/26 [==============================] - 79s 3s/step\n",
      "Classification Report\n",
      "              precision    recall  f1-score   support\n",
      "\n",
      "           0       0.89      0.97      0.93       420\n",
      "           1       0.97      0.81      0.89       420\n",
      "           2       0.93      0.99      0.96       420\n",
      "\n",
      "    accuracy                           0.93      1260\n",
      "   macro avg       0.93      0.93      0.92      1260\n",
      "weighted avg       0.93      0.93      0.92      1260\n",
      "\n"
     ]
    }
   ],
   "source": [
    "from sklearn.metrics import classification_report\n",
    "\n",
    "y_pred = np.argmax(model.predict(validation_generator),axis=1)\n",
    "print('Classification Report')\n",
    "print(classification_report(labels, y_pred))"
   ]
  },
  {
   "cell_type": "code",
   "execution_count": null,
   "id": "f384e812",
   "metadata": {},
   "outputs": [],
   "source": []
  }
 ],
 "metadata": {
  "kernelspec": {
   "display_name": "Python 3 (ipykernel)",
   "language": "python",
   "name": "python3"
  },
  "language_info": {
   "codemirror_mode": {
    "name": "ipython",
    "version": 3
   },
   "file_extension": ".py",
   "mimetype": "text/x-python",
   "name": "python",
   "nbconvert_exporter": "python",
   "pygments_lexer": "ipython3",
   "version": "3.9.12"
  }
 },
 "nbformat": 4,
 "nbformat_minor": 5
}
