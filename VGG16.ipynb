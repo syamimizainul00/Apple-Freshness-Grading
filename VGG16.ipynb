{
 "cells": [
  {
   "cell_type": "markdown",
   "id": "03d19067",
   "metadata": {},
   "source": [
    "# Import Data"
   ]
  },
  {
   "cell_type": "code",
   "execution_count": 1,
   "id": "bc4ac247",
   "metadata": {},
   "outputs": [],
   "source": [
    "import os\n",
    "train_dir = os.path.join('C:/Users/User/Documents/DATASET FAHAD/train')\n",
    "test_dir = os.path.join('C:/Users/User/Documents/DATASET FAHAD/test')"
   ]
  },
  {
   "cell_type": "code",
   "execution_count": 2,
   "id": "e1cbb2c5",
   "metadata": {},
   "outputs": [
    {
     "name": "stdout",
     "output_type": "stream",
     "text": [
      "Total training fresh apples images: 1144\n",
      "\n",
      "Total training medium fresh apple images: 1001\n",
      "\n",
      "Total training rotten apples images: 1014\n"
     ]
    }
   ],
   "source": [
    "freshapples_dir = os.path.join('C:/Users/User/Documents/DATASET FAHAD/train/freshapples')\n",
    "mediumfresh_dir = os.path.join('C:/Users/User/Documents/DATASET FAHAD/train/mediumfresh')\n",
    "rottenapples_dir = os.path.join('C:/Users/User/Documents/DATASET FAHAD/train/rottenapples')\n",
    "\n",
    "\n",
    "print('Total training fresh apples images:', len(os.listdir(freshapples_dir)))\n",
    "print('\\nTotal training medium fresh apple images:', len(os.listdir(mediumfresh_dir)))\n",
    "print('\\nTotal training rotten apples images:', len(os.listdir(rottenapples_dir)))"
   ]
  },
  {
   "cell_type": "code",
   "execution_count": 3,
   "id": "a150c3e6",
   "metadata": {},
   "outputs": [],
   "source": [
    "import warnings\n",
    "warnings.filterwarnings('ignore')\n",
    "import os\n",
    "import numpy as np \n",
    "import pandas as pd \n",
    "import matplotlib.pyplot as plt \n",
    "import seaborn as sb \n",
    "from tensorflow.keras.utils import to_categorical\n",
    "from keras.preprocessing.image import ImageDataGenerator\n",
    "from tensorflow.keras.utils import load_img\n",
    "from tensorflow.keras.callbacks import EarlyStopping,ModelCheckpoint\n",
    "from sklearn.model_selection import train_test_split\n",
    "import matplotlib.pyplot as plt\n",
    "from keras.models import Model,Sequential\n",
    "from keras.layers import Conv2D, GlobalAveragePooling2D, Dropout, Flatten, Dense, Activation,GlobalMaxPooling2D\n",
    "from tensorflow.keras.applications.inception_v3 import InceptionV3\n",
    "from sklearn.metrics import confusion_matrix,classification_report\n",
    "from tensorflow.keras.optimizers import Adam\n",
    "from tensorflow.keras import layers\n",
    "from tensorflow.keras import Model\n"
   ]
  },
  {
   "cell_type": "code",
   "execution_count": 4,
   "id": "febc1df8",
   "metadata": {},
   "outputs": [],
   "source": [
    "import tensorflow as tf\n",
    "import keras_preprocessing\n",
    "from keras_preprocessing import image\n",
    "from keras_preprocessing.image import ImageDataGenerator\n"
   ]
  },
  {
   "cell_type": "markdown",
   "id": "491b45b2",
   "metadata": {},
   "source": [
    "# Data Preprocessing"
   ]
  },
  {
   "cell_type": "code",
   "execution_count": 5,
   "id": "13beae12",
   "metadata": {},
   "outputs": [
    {
     "name": "stdout",
     "output_type": "stream",
     "text": [
      "Found 3159 images belonging to 3 classes.\n",
      "Found 1260 images belonging to 3 classes.\n"
     ]
    }
   ],
   "source": [
    "\n",
    "# this is the augmentation configuration for training\n",
    "\n",
    "training_datagen = ImageDataGenerator(\n",
    "        rescale = 1./255,                        #normalize\n",
    "        rotation_range=40,                       #randomly rotated within the range of -40 degrees to 40 degrees\n",
    "        width_shift_range=0.2,                   #shift image\n",
    "        height_shift_range=0.2,\n",
    "        shear_range=0.2,                         #shear image\n",
    "        zoom_range=0.2,                          #zoom image\n",
    "        horizontal_flip=True,                    #flip image horizontally\n",
    "        fill_mode='nearest')                   '''specifies the strategy used to fill the newly \n",
    "                                                #created pixels after applying the data augmentation techniques.'''\n",
    "\n",
    "\n",
    "# this is the augmentation configuration for testing:\n",
    "# only rescaling\n",
    "\n",
    "validation_datagen = ImageDataGenerator(rescale = 1./255) #normalize\n",
    "\n",
    "\n",
    "# this is a generator that will read pictures found in subfolers of 'TRAINING_DIR', and indefinitely generate batches of augmented image data\n",
    "train_generator = training_datagen.flow_from_directory(\n",
    "    train_dir,                   # this is the target directory\n",
    "    target_size=(224,224),          # all images will be resized to 224x224\n",
    "    class_mode='categorical',       # since i use categorical_crossentropy loss, i need categorical labels\n",
    "    batch_size= 100                  \n",
    ")\n",
    "\n",
    "validation_generator = validation_datagen.flow_from_directory(\n",
    "    test_dir,\n",
    "    target_size=(224,224),\n",
    "    class_mode='categorical',\n",
    "    batch_size= 50,\n",
    "    shuffle=False\n",
    "    \n",
    ")"
   ]
  },
  {
   "cell_type": "code",
   "execution_count": 6,
   "id": "fc7cec00",
   "metadata": {},
   "outputs": [
    {
     "data": {
      "text/plain": [
       "{0: 'freshapples', 1: 'mediumfresh', 2: 'rottenapples'}"
      ]
     },
     "execution_count": 6,
     "metadata": {},
     "output_type": "execute_result"
    }
   ],
   "source": [
    "#get classes dict \n",
    "classes_dict = dict(validation_generator.class_indices)\n",
    "#reverse \n",
    "classes_dict = {v: k for k,v in classes_dict.items()}\n",
    "\n",
    "classes_dict\n"
   ]
  },
  {
   "cell_type": "markdown",
   "id": "42118287",
   "metadata": {},
   "source": [
    "# Build Model"
   ]
  },
  {
   "cell_type": "code",
   "execution_count": 7,
   "id": "b887c828",
   "metadata": {},
   "outputs": [],
   "source": [
    "from tensorflow.keras.applications import VGG16\n",
    "\n",
    "     \n",
    "pretrained_model=VGG16(input_shape = (224, 224, 3),   # 224x224 RGB image\n",
    "                        include_top = False,          #final dense layer not included. will be created later on\n",
    "                        weights ='imagenet')          #the model will be initialized with the ImageNet weights.\n",
    "\n",
    "\n",
    "\n",
    "for layer in pretrained_model.layers:\n",
    "     layer.trainable = False                  #weights of these layers will not be updated during the training process\n",
    "                                              #keeping pre-trained weights fixed"
   ]
  },
  {
   "cell_type": "code",
   "execution_count": 8,
   "id": "775b696d",
   "metadata": {},
   "outputs": [
    {
     "name": "stdout",
     "output_type": "stream",
     "text": [
      "last layer of vgg : output shape:  (None, 7, 7, 512)\n"
     ]
    }
   ],
   "source": [
    "\n",
    "last_layer = pretrained_model.get_layer('block5_pool')\n",
    "print('last layer of vgg : output shape: ', last_layer.output_shape)\n",
    "last_output = last_layer.output\n",
    "\n",
    "\n",
    "adam = tf.keras.optimizers.Adam(\n",
    "    learning_rate=0.001, beta_1=0.9, beta_2=0.999, epsilon=1e-07, amsgrad=False)\n",
    "\n",
    "\n",
    "#ADD FULLY CONNECTED LAYERS ON TOP OF THE LAST LAYER OF VGG16\n",
    "x = layers.Flatten()(last_output) #input layer\n",
    "#Dense hidden layer\n",
    "x = layers.Dense(1024, activation='relu')(x)\n",
    "x = layers.Dropout(0.2)(x)                  \n",
    "x = layers.Dense(3, activation='softmax')(x)  #output layer         \n",
    "\n",
    "model = Model(pretrained_model.input, x)\n",
    "model.compile(optimizer = adam, \n",
    "              loss = 'categorical_crossentropy', \n",
    "              metrics = ['accuracy'])"
   ]
  },
  {
   "cell_type": "code",
   "execution_count": 9,
   "id": "51cca469",
   "metadata": {},
   "outputs": [
    {
     "name": "stdout",
     "output_type": "stream",
     "text": [
      "Model: \"model\"\n",
      "_________________________________________________________________\n",
      " Layer (type)                Output Shape              Param #   \n",
      "=================================================================\n",
      " input_1 (InputLayer)        [(None, 224, 224, 3)]     0         \n",
      "                                                                 \n",
      " block1_conv1 (Conv2D)       (None, 224, 224, 64)      1792      \n",
      "                                                                 \n",
      " block1_conv2 (Conv2D)       (None, 224, 224, 64)      36928     \n",
      "                                                                 \n",
      " block1_pool (MaxPooling2D)  (None, 112, 112, 64)      0         \n",
      "                                                                 \n",
      " block2_conv1 (Conv2D)       (None, 112, 112, 128)     73856     \n",
      "                                                                 \n",
      " block2_conv2 (Conv2D)       (None, 112, 112, 128)     147584    \n",
      "                                                                 \n",
      " block2_pool (MaxPooling2D)  (None, 56, 56, 128)       0         \n",
      "                                                                 \n",
      " block3_conv1 (Conv2D)       (None, 56, 56, 256)       295168    \n",
      "                                                                 \n",
      " block3_conv2 (Conv2D)       (None, 56, 56, 256)       590080    \n",
      "                                                                 \n",
      " block3_conv3 (Conv2D)       (None, 56, 56, 256)       590080    \n",
      "                                                                 \n",
      " block3_pool (MaxPooling2D)  (None, 28, 28, 256)       0         \n",
      "                                                                 \n",
      " block4_conv1 (Conv2D)       (None, 28, 28, 512)       1180160   \n",
      "                                                                 \n",
      " block4_conv2 (Conv2D)       (None, 28, 28, 512)       2359808   \n",
      "                                                                 \n",
      " block4_conv3 (Conv2D)       (None, 28, 28, 512)       2359808   \n",
      "                                                                 \n",
      " block4_pool (MaxPooling2D)  (None, 14, 14, 512)       0         \n",
      "                                                                 \n",
      " block5_conv1 (Conv2D)       (None, 14, 14, 512)       2359808   \n",
      "                                                                 \n",
      " block5_conv2 (Conv2D)       (None, 14, 14, 512)       2359808   \n",
      "                                                                 \n",
      " block5_conv3 (Conv2D)       (None, 14, 14, 512)       2359808   \n",
      "                                                                 \n",
      " block5_pool (MaxPooling2D)  (None, 7, 7, 512)         0         \n",
      "                                                                 \n",
      " flatten (Flatten)           (None, 25088)             0         \n",
      "                                                                 \n",
      " dense (Dense)               (None, 1024)              25691136  \n",
      "                                                                 \n",
      " dropout (Dropout)           (None, 1024)              0         \n",
      "                                                                 \n",
      " dense_1 (Dense)             (None, 3)                 3075      \n",
      "                                                                 \n",
      "=================================================================\n",
      "Total params: 40,408,899\n",
      "Trainable params: 25,694,211\n",
      "Non-trainable params: 14,714,688\n",
      "_________________________________________________________________\n"
     ]
    }
   ],
   "source": [
    "model.summary()"
   ]
  },
  {
   "cell_type": "code",
   "execution_count": 10,
   "id": "97fc6204",
   "metadata": {},
   "outputs": [
    {
     "data": {
      "text/plain": [
       "23"
      ]
     },
     "execution_count": 10,
     "metadata": {},
     "output_type": "execute_result"
    }
   ],
   "source": [
    "len(model.layers)"
   ]
  },
  {
   "cell_type": "code",
   "execution_count": 11,
   "id": "533e5e36",
   "metadata": {},
   "outputs": [],
   "source": [
    "early = tf.keras.callbacks.EarlyStopping( patience=2,\n",
    "                                          monitor='loss')\n",
    "# early stopping call back\n",
    "# training will stop if the monitored metric ('loss') has not improved after 2 epochs."
   ]
  },
  {
   "cell_type": "markdown",
   "id": "f7858111",
   "metadata": {},
   "source": [
    "# Train Model"
   ]
  },
  {
   "cell_type": "code",
   "execution_count": 12,
   "id": "6cc9be8b",
   "metadata": {},
   "outputs": [
    {
     "name": "stdout",
     "output_type": "stream",
     "text": [
      "Epoch 1/10\n",
      "31/31 [==============================] - 1799s 58s/step - loss: 2.9312 - accuracy: 0.5796 - val_loss: 0.5420 - val_accuracy: 0.8040\n",
      "Epoch 2/10\n",
      "31/31 [==============================] - 1451s 47s/step - loss: 0.4935 - accuracy: 0.8133 - val_loss: 0.2752 - val_accuracy: 0.9120\n",
      "Epoch 3/10\n",
      "31/31 [==============================] - 1479s 48s/step - loss: 0.3441 - accuracy: 0.8761 - val_loss: 0.2590 - val_accuracy: 0.9176\n",
      "Epoch 4/10\n",
      "31/31 [==============================] - 1476s 48s/step - loss: 0.3117 - accuracy: 0.8882 - val_loss: 0.2435 - val_accuracy: 0.9176\n",
      "Epoch 5/10\n",
      "31/31 [==============================] - 1275s 41s/step - loss: 0.2838 - accuracy: 0.8947 - val_loss: 0.2370 - val_accuracy: 0.9192\n",
      "Epoch 6/10\n",
      "31/31 [==============================] - 1248s 41s/step - loss: 0.2637 - accuracy: 0.9045 - val_loss: 0.1883 - val_accuracy: 0.9424\n",
      "Epoch 7/10\n",
      "31/31 [==============================] - 1255s 41s/step - loss: 0.2371 - accuracy: 0.9117 - val_loss: 0.1732 - val_accuracy: 0.9400\n",
      "Epoch 8/10\n",
      "31/31 [==============================] - 1365s 44s/step - loss: 0.2335 - accuracy: 0.9144 - val_loss: 0.1683 - val_accuracy: 0.9448\n",
      "Epoch 9/10\n",
      "31/31 [==============================] - 1304s 42s/step - loss: 0.2275 - accuracy: 0.9134 - val_loss: 0.1506 - val_accuracy: 0.9432\n",
      "Epoch 10/10\n",
      "31/31 [==============================] - 1268s 41s/step - loss: 0.2423 - accuracy: 0.9173 - val_loss: 0.2130 - val_accuracy: 0.9240\n"
     ]
    }
   ],
   "source": [
    "steps_per_epoch = 3159 // 100 #training set // batch size\n",
    "\n",
    "validation_steps = 1260 // 50 #testing set // batch size\n",
    "\n",
    "history = model.fit(\n",
    "            train_generator,\n",
    "            validation_data = validation_generator,\n",
    "            steps_per_epoch = steps_per_epoch,\n",
    "            epochs = 10,\n",
    "            validation_steps = validation_steps,\n",
    "            verbose = 1,\n",
    "            callbacks=[early])"
   ]
  },
  {
   "cell_type": "markdown",
   "id": "47ae6dce",
   "metadata": {},
   "source": [
    "# Save Model"
   ]
  },
  {
   "cell_type": "code",
   "execution_count": 13,
   "id": "47602cfa",
   "metadata": {},
   "outputs": [],
   "source": [
    "tf.keras.models.save_model(model,'VGG16_model.hdf5')"
   ]
  },
  {
   "cell_type": "markdown",
   "id": "31bbe663",
   "metadata": {},
   "source": [
    "# Accuracy Graph"
   ]
  },
  {
   "cell_type": "code",
   "execution_count": 14,
   "id": "474818cb",
   "metadata": {},
   "outputs": [
    {
     "data": {
      "image/png": "[encoded data removed]",
      "text/plain": [
       "<Figure size 600x400 with 1 Axes>"
      ]
     },
     "metadata": {},
     "output_type": "display_data"
    }
   ],
   "source": [
    "import matplotlib.pyplot as plt\n",
    "acc = history.history['accuracy']\n",
    "val_acc = history.history['val_accuracy']\n",
    "loss = history.history['loss']\n",
    "val_loss = history.history['val_loss']\n",
    "\n",
    "epochs = range(len(acc))\n",
    "\n",
    "plt.style.use('seaborn-whitegrid')\n",
    "plt.figure(dpi = 100)\n",
    "plt.plot(epochs, acc, 'r', label='Training accuracy')\n",
    "plt.plot(epochs, val_acc, 'b', label='Validation accuracy')\n",
    "plt.title('Training and validation accuracy')\n",
    "plt.legend(loc=0)\n",
    "plt.show();"
   ]
  },
  {
   "cell_type": "markdown",
   "id": "30e09bd4",
   "metadata": {},
   "source": [
    "# Loss Graph"
   ]
  },
  {
   "cell_type": "code",
   "execution_count": 15,
   "id": "1ee018c1",
   "metadata": {},
   "outputs": [
    {
     "data": {
      "image/png": "[encoded data removed]",
      "text/plain": [
       "<Figure size 600x400 with 1 Axes>"
      ]
     },
     "metadata": {},
     "output_type": "display_data"
    }
   ],
   "source": [
    "epochs = range(len(loss))\n",
    "\n",
    "plt.style.use('seaborn-whitegrid')\n",
    "plt.figure(dpi = 100)\n",
    "plt.plot(epochs, loss, 'r', label='Training loss')\n",
    "plt.plot(epochs, val_loss, 'b', label='Validation loss')\n",
    "plt.title('Training and validation loss')\n",
    "plt.legend(loc=0)\n",
    "plt.show();"
   ]
  },
  {
   "cell_type": "markdown",
   "id": "39538f03",
   "metadata": {},
   "source": [
    "# Confusion Matrix"
   ]
  },
  {
   "cell_type": "code",
   "execution_count": 16,
   "id": "7ebd8325",
   "metadata": {},
   "outputs": [
    {
     "name": "stdout",
     "output_type": "stream",
     "text": [
      "26/26 [==============================] - 376s 14s/step\n"
     ]
    },
    {
     "data": {
      "image/png": "[encoded data removed]",
      "text/plain": [
       "<Figure size 864x720 with 2 Axes>"
      ]
     },
     "metadata": {},
     "output_type": "display_data"
    }
   ],
   "source": [
    "class_names = list(classes_dict.values())\n",
    "labels = validation_generator.classes\n",
    "preds =  model.predict(validation_generator)\n",
    "predictions = np.argmax(preds, axis=1)\n",
    "#show the confusion matrix \n",
    "conf_matrix = confusion_matrix(labels, predictions) \n",
    "# plot the confusion matrix\n",
    "fig,ax = plt.subplots(figsize=(12, 10))\n",
    "sb.heatmap(conf_matrix, annot=True, linewidths=0.01,cmap=\"magma\",linecolor=\"gray\", fmt= '.1f',ax=ax)\n",
    "plt.xlabel(\"Predicted Class\")\n",
    "plt.ylabel(\"True Class\")\n",
    "plt.title(\"Confusion Matrix\")\n",
    "ax.set_xticklabels(labels = class_names,fontdict=None)\n",
    "ax.set_yticklabels(labels = class_names,fontdict=None)\n",
    "plt.show()"
   ]
  },
  {
   "cell_type": "markdown",
   "id": "cd9488ac",
   "metadata": {},
   "source": [
    "# Classification Report"
   ]
  },
  {
   "cell_type": "code",
   "execution_count": 17,
   "id": "bbce548f",
   "metadata": {},
   "outputs": [
    {
     "name": "stdout",
     "output_type": "stream",
     "text": [
      "26/26 [==============================] - 410s 16s/step\n",
      "Classification Report\n",
      "              precision    recall  f1-score   support\n",
      "\n",
      "           0       0.89      0.98      0.93       420\n",
      "           1       0.99      0.83      0.90       420\n",
      "           2       0.91      0.96      0.94       420\n",
      "\n",
      "    accuracy                           0.92      1260\n",
      "   macro avg       0.93      0.92      0.92      1260\n",
      "weighted avg       0.93      0.92      0.92      1260\n",
      "\n"
     ]
    }
   ],
   "source": [
    "from sklearn.metrics import classification_report\n",
    "\n",
    "y_pred = np.argmax(model.predict(validation_generator),axis=1)\n",
    "print('Classification Report')\n",
    "print(classification_report(labels, y_pred))"
   ]
  },
  {
   "cell_type": "code",
   "execution_count": null,
   "id": "f384e812",
   "metadata": {},
   "outputs": [],
   "source": []
  }
 ],
 "metadata": {
  "kernelspec": {
   "display_name": "Python 3 (ipykernel)",
   "language": "python",
   "name": "python3"
  },
  "language_info": {
   "codemirror_mode": {
    "name": "ipython",
    "version": 3
   },
   "file_extension": ".py",
   "mimetype": "text/x-python",
   "name": "python",
   "nbconvert_exporter": "python",
   "pygments_lexer": "ipython3",
   "version": "3.9.12"
  }
 },
 "nbformat": 4,
 "nbformat_minor": 5
}
