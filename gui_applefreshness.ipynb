{
 "cells": [
  {
   "cell_type": "code",
   "execution_count": 1,
   "id": "23f1b82f",
   "metadata": {},
   "outputs": [],
   "source": [
    "import tensorflow as tf\n",
    "model = tf.keras.models.load_model('inceptionV3_model.hdf5')"
   ]
  },
  {
   "cell_type": "code",
   "execution_count": 2,
   "id": "b61220de",
   "metadata": {},
   "outputs": [
    {
     "ename": "TomlDecodeError",
     "evalue": "Key name found without value. Reached end of line. (line 1 column 4 char 3)",
     "output_type": "error",
     "traceback": [
      "\u001b[1;31m---------------------------------------------------------------------------\u001b[0m",
      "\u001b[1;31mTomlDecodeError\u001b[0m                           Traceback (most recent call last)",
      "Input \u001b[1;32mIn [2]\u001b[0m, in \u001b[0;36m<cell line: 2>\u001b[1;34m()\u001b[0m\n\u001b[0;32m      1\u001b[0m \u001b[38;5;28;01mimport\u001b[39;00m \u001b[38;5;21;01mstreamlit\u001b[39;00m \u001b[38;5;28;01mas\u001b[39;00m \u001b[38;5;21;01mst\u001b[39;00m\n\u001b[1;32m----> 2\u001b[0m \u001b[43mst\u001b[49m\u001b[38;5;241;43m.\u001b[39;49m\u001b[43mwrite\u001b[49m\u001b[43m(\u001b[49m\u001b[38;5;124;43m\"\"\"\u001b[39;49m\n\u001b[0;32m      3\u001b[0m \u001b[38;5;124;43m         # Apple Freshness Grading\u001b[39;49m\n\u001b[0;32m      4\u001b[0m \u001b[38;5;124;43m         \u001b[39;49m\u001b[38;5;124;43m\"\"\"\u001b[39;49m\n\u001b[0;32m      5\u001b[0m \u001b[43m         \u001b[49m\u001b[43m)\u001b[49m\n\u001b[0;32m      6\u001b[0m st\u001b[38;5;241m.\u001b[39mwrite(\u001b[38;5;124m\"\u001b[39m\u001b[38;5;124mThis system is able to classify apple into 3 categories : fresh, medium fresh, rotten.\u001b[39m\u001b[38;5;124m\"\u001b[39m)\n\u001b[0;32m      7\u001b[0m st\u001b[38;5;241m.\u001b[39mwrite(\u001b[38;5;124m\"\u001b[39m\u001b[38;5;124mIt may not be 100\u001b[39m\u001b[38;5;132;01m% a\u001b[39;00m\u001b[38;5;124mccurate but it is still reliable.\u001b[39m\u001b[38;5;124m\"\u001b[39m)\n",
      "File \u001b[1;32m~\\anaconda3\\lib\\site-packages\\streamlit\\runtime\\metrics_util.py:311\u001b[0m, in \u001b[0;36mgather_metrics.<locals>.wrapped_func\u001b[1;34m(*args, **kwargs)\u001b[0m\n\u001b[0;32m    309\u001b[0m         _LOGGER\u001b[38;5;241m.\u001b[39mdebug(\u001b[38;5;124m\"\u001b[39m\u001b[38;5;124mFailed to collect command telemetry\u001b[39m\u001b[38;5;124m\"\u001b[39m, exc_info\u001b[38;5;241m=\u001b[39mex)\n\u001b[0;32m    310\u001b[0m \u001b[38;5;28;01mtry\u001b[39;00m:\n\u001b[1;32m--> 311\u001b[0m     result \u001b[38;5;241m=\u001b[39m non_optional_func(\u001b[38;5;241m*\u001b[39margs, \u001b[38;5;241m*\u001b[39m\u001b[38;5;241m*\u001b[39mkwargs)\n\u001b[0;32m    312\u001b[0m \u001b[38;5;28;01mfinally\u001b[39;00m:\n\u001b[0;32m    313\u001b[0m     \u001b[38;5;66;03m# Activate tracking again if command executes without any exceptions\u001b[39;00m\n\u001b[0;32m    314\u001b[0m     \u001b[38;5;28;01mif\u001b[39;00m ctx:\n",
      "File \u001b[1;32m~\\anaconda3\\lib\\site-packages\\streamlit\\elements\\write.py:251\u001b[0m, in \u001b[0;36mWriteMixin.write\u001b[1;34m(self, unsafe_allow_html, *args, **kwargs)\u001b[0m\n\u001b[0;32m    248\u001b[0m     \u001b[38;5;28;01melse\u001b[39;00m:\n\u001b[0;32m    249\u001b[0m         string_buffer\u001b[38;5;241m.\u001b[39mappend(\u001b[38;5;124m\"\u001b[39m\u001b[38;5;124m`\u001b[39m\u001b[38;5;132;01m%s\u001b[39;00m\u001b[38;5;124m`\u001b[39m\u001b[38;5;124m\"\u001b[39m \u001b[38;5;241m%\u001b[39m \u001b[38;5;28mstr\u001b[39m(arg)\u001b[38;5;241m.\u001b[39mreplace(\u001b[38;5;124m\"\u001b[39m\u001b[38;5;124m`\u001b[39m\u001b[38;5;124m\"\u001b[39m, \u001b[38;5;124m\"\u001b[39m\u001b[38;5;130;01m\\\\\u001b[39;00m\u001b[38;5;124m`\u001b[39m\u001b[38;5;124m\"\u001b[39m))\n\u001b[1;32m--> 251\u001b[0m \u001b[43mflush_buffer\u001b[49m\u001b[43m(\u001b[49m\u001b[43m)\u001b[49m\n",
      "File \u001b[1;32m~\\anaconda3\\lib\\site-packages\\streamlit\\elements\\write.py:182\u001b[0m, in \u001b[0;36mWriteMixin.write.<locals>.flush_buffer\u001b[1;34m()\u001b[0m\n\u001b[0;32m    180\u001b[0m \u001b[38;5;28;01mdef\u001b[39;00m \u001b[38;5;21mflush_buffer\u001b[39m():\n\u001b[0;32m    181\u001b[0m     \u001b[38;5;28;01mif\u001b[39;00m string_buffer:\n\u001b[1;32m--> 182\u001b[0m         \u001b[38;5;28;43mself\u001b[39;49m\u001b[38;5;241;43m.\u001b[39;49m\u001b[43mdg\u001b[49m\u001b[38;5;241;43m.\u001b[39;49m\u001b[43mmarkdown\u001b[49m\u001b[43m(\u001b[49m\n\u001b[0;32m    183\u001b[0m \u001b[43m            \u001b[49m\u001b[38;5;124;43m\"\u001b[39;49m\u001b[38;5;124;43m \u001b[39;49m\u001b[38;5;124;43m\"\u001b[39;49m\u001b[38;5;241;43m.\u001b[39;49m\u001b[43mjoin\u001b[49m\u001b[43m(\u001b[49m\u001b[43mstring_buffer\u001b[49m\u001b[43m)\u001b[49m\u001b[43m,\u001b[49m\n\u001b[0;32m    184\u001b[0m \u001b[43m            \u001b[49m\u001b[43munsafe_allow_html\u001b[49m\u001b[38;5;241;43m=\u001b[39;49m\u001b[43munsafe_allow_html\u001b[49m\u001b[43m,\u001b[49m\n\u001b[0;32m    185\u001b[0m \u001b[43m        \u001b[49m\u001b[43m)\u001b[49m\n\u001b[0;32m    186\u001b[0m         string_buffer[:] \u001b[38;5;241m=\u001b[39m []\n",
      "File \u001b[1;32m~\\anaconda3\\lib\\site-packages\\streamlit\\runtime\\metrics_util.py:311\u001b[0m, in \u001b[0;36mgather_metrics.<locals>.wrapped_func\u001b[1;34m(*args, **kwargs)\u001b[0m\n\u001b[0;32m    309\u001b[0m         _LOGGER\u001b[38;5;241m.\u001b[39mdebug(\u001b[38;5;124m\"\u001b[39m\u001b[38;5;124mFailed to collect command telemetry\u001b[39m\u001b[38;5;124m\"\u001b[39m, exc_info\u001b[38;5;241m=\u001b[39mex)\n\u001b[0;32m    310\u001b[0m \u001b[38;5;28;01mtry\u001b[39;00m:\n\u001b[1;32m--> 311\u001b[0m     result \u001b[38;5;241m=\u001b[39m non_optional_func(\u001b[38;5;241m*\u001b[39margs, \u001b[38;5;241m*\u001b[39m\u001b[38;5;241m*\u001b[39mkwargs)\n\u001b[0;32m    312\u001b[0m \u001b[38;5;28;01mfinally\u001b[39;00m:\n\u001b[0;32m    313\u001b[0m     \u001b[38;5;66;03m# Activate tracking again if command executes without any exceptions\u001b[39;00m\n\u001b[0;32m    314\u001b[0m     \u001b[38;5;28;01mif\u001b[39;00m ctx:\n",
      "File \u001b[1;32m~\\anaconda3\\lib\\site-packages\\streamlit\\elements\\markdown.py:81\u001b[0m, in \u001b[0;36mMarkdownMixin.markdown\u001b[1;34m(self, body, unsafe_allow_html)\u001b[0m\n\u001b[0;32m     78\u001b[0m markdown_proto\u001b[38;5;241m.\u001b[39mallow_html \u001b[38;5;241m=\u001b[39m unsafe_allow_html\n\u001b[0;32m     79\u001b[0m markdown_proto\u001b[38;5;241m.\u001b[39melement_type \u001b[38;5;241m=\u001b[39m MarkdownProto\u001b[38;5;241m.\u001b[39mType\u001b[38;5;241m.\u001b[39mNATIVE\n\u001b[1;32m---> 81\u001b[0m \u001b[38;5;28;01mreturn\u001b[39;00m \u001b[38;5;28;43mself\u001b[39;49m\u001b[38;5;241;43m.\u001b[39;49m\u001b[43mdg\u001b[49m\u001b[38;5;241;43m.\u001b[39;49m\u001b[43m_enqueue\u001b[49m\u001b[43m(\u001b[49m\u001b[38;5;124;43m\"\u001b[39;49m\u001b[38;5;124;43mmarkdown\u001b[39;49m\u001b[38;5;124;43m\"\u001b[39;49m\u001b[43m,\u001b[49m\u001b[43m \u001b[49m\u001b[43mmarkdown_proto\u001b[49m\u001b[43m)\u001b[49m\n",
      "File \u001b[1;32m~\\anaconda3\\lib\\site-packages\\streamlit\\delta_generator.py:509\u001b[0m, in \u001b[0;36mDeltaGenerator._enqueue\u001b[1;34m(self, delta_type, element_proto, return_value, last_index, element_width, element_height)\u001b[0m\n\u001b[0;32m    506\u001b[0m caching\u001b[38;5;241m.\u001b[39mmaybe_show_cached_st_function_warning(dg, delta_type)\n\u001b[0;32m    508\u001b[0m \u001b[38;5;66;03m# Warn if an element is being changed but the user isn't running the streamlit server.\u001b[39;00m\n\u001b[1;32m--> 509\u001b[0m \u001b[43m_maybe_print_use_warning\u001b[49m\u001b[43m(\u001b[49m\u001b[43m)\u001b[49m\n\u001b[0;32m    511\u001b[0m \u001b[38;5;66;03m# Some elements have a method.__name__ != delta_type in proto.\u001b[39;00m\n\u001b[0;32m    512\u001b[0m \u001b[38;5;66;03m# This really matters for line_chart, bar_chart & area_chart,\u001b[39;00m\n\u001b[0;32m    513\u001b[0m \u001b[38;5;66;03m# since add_rows() relies on method.__name__ == delta_type\u001b[39;00m\n\u001b[0;32m    514\u001b[0m \u001b[38;5;66;03m# TODO: Fix for all elements (or the cache warning above will be wrong)\u001b[39;00m\n\u001b[0;32m    515\u001b[0m proto_type \u001b[38;5;241m=\u001b[39m delta_type\n",
      "File \u001b[1;32m~\\anaconda3\\lib\\site-packages\\streamlit\\delta_generator.py:142\u001b[0m, in \u001b[0;36m_maybe_print_use_warning\u001b[1;34m()\u001b[0m\n\u001b[0;32m    137\u001b[0m \u001b[38;5;28;01mif\u001b[39;00m env_util\u001b[38;5;241m.\u001b[39mis_repl():\n\u001b[0;32m    138\u001b[0m     logger\u001b[38;5;241m.\u001b[39mget_logger(\u001b[38;5;124m\"\u001b[39m\u001b[38;5;124mroot\u001b[39m\u001b[38;5;124m\"\u001b[39m)\u001b[38;5;241m.\u001b[39mwarning(\n\u001b[0;32m    139\u001b[0m         \u001b[38;5;124mf\u001b[39m\u001b[38;5;124m\"\u001b[39m\u001b[38;5;130;01m\\n\u001b[39;00m\u001b[38;5;124m  \u001b[39m\u001b[38;5;132;01m{\u001b[39;00mwarning\u001b[38;5;132;01m}\u001b[39;00m\u001b[38;5;124m to view a Streamlit app on a browser, use Streamlit in a file and\u001b[39m\u001b[38;5;130;01m\\n\u001b[39;00m\u001b[38;5;124m  run it with the following command:\u001b[39m\u001b[38;5;130;01m\\n\u001b[39;00m\u001b[38;5;130;01m\\n\u001b[39;00m\u001b[38;5;124m    streamlit run [FILE_NAME] [ARGUMENTS]\u001b[39m\u001b[38;5;124m\"\u001b[39m\n\u001b[0;32m    140\u001b[0m     )\n\u001b[1;32m--> 142\u001b[0m \u001b[38;5;28;01melif\u001b[39;00m \u001b[38;5;129;01mnot\u001b[39;00m runtime\u001b[38;5;241m.\u001b[39mexists() \u001b[38;5;129;01mand\u001b[39;00m \u001b[43mconfig\u001b[49m\u001b[38;5;241;43m.\u001b[39;49m\u001b[43mget_option\u001b[49m\u001b[43m(\u001b[49m\n\u001b[0;32m    143\u001b[0m \u001b[43m    \u001b[49m\u001b[38;5;124;43m\"\u001b[39;49m\u001b[38;5;124;43mglobal.showWarningOnDirectExecution\u001b[39;49m\u001b[38;5;124;43m\"\u001b[39;49m\n\u001b[0;32m    144\u001b[0m \u001b[43m\u001b[49m\u001b[43m)\u001b[49m:\n\u001b[0;32m    145\u001b[0m     script_name \u001b[38;5;241m=\u001b[39m sys\u001b[38;5;241m.\u001b[39margv[\u001b[38;5;241m0\u001b[39m]\n\u001b[0;32m    147\u001b[0m     logger\u001b[38;5;241m.\u001b[39mget_logger(\u001b[38;5;124m\"\u001b[39m\u001b[38;5;124mroot\u001b[39m\u001b[38;5;124m\"\u001b[39m)\u001b[38;5;241m.\u001b[39mwarning(\n\u001b[0;32m    148\u001b[0m         \u001b[38;5;124mf\u001b[39m\u001b[38;5;124m\"\u001b[39m\u001b[38;5;130;01m\\n\u001b[39;00m\u001b[38;5;124m  \u001b[39m\u001b[38;5;132;01m{\u001b[39;00mwarning\u001b[38;5;132;01m}\u001b[39;00m\u001b[38;5;124m to view this Streamlit app on a browser, run it with the following\u001b[39m\u001b[38;5;130;01m\\n\u001b[39;00m\u001b[38;5;124m  command:\u001b[39m\u001b[38;5;130;01m\\n\u001b[39;00m\u001b[38;5;130;01m\\n\u001b[39;00m\u001b[38;5;124m    streamlit run \u001b[39m\u001b[38;5;132;01m{\u001b[39;00mscript_name\u001b[38;5;132;01m}\u001b[39;00m\u001b[38;5;124m [ARGUMENTS]\u001b[39m\u001b[38;5;124m\"\u001b[39m\n\u001b[0;32m    149\u001b[0m     )\n",
      "File \u001b[1;32m~\\anaconda3\\lib\\site-packages\\streamlit\\config.py:140\u001b[0m, in \u001b[0;36mget_option\u001b[1;34m(key)\u001b[0m\n\u001b[0;32m    129\u001b[0m \u001b[38;5;124;03m\"\"\"Return the current value of a given Streamlit config option.\u001b[39;00m\n\u001b[0;32m    130\u001b[0m \n\u001b[0;32m    131\u001b[0m \u001b[38;5;124;03mRun `streamlit config show` in the terminal to see all available options.\u001b[39;00m\n\u001b[1;32m   (...)\u001b[0m\n\u001b[0;32m    137\u001b[0m \u001b[38;5;124;03m    available options, run `streamlit config show` on a terminal.\u001b[39;00m\n\u001b[0;32m    138\u001b[0m \u001b[38;5;124;03m\"\"\"\u001b[39;00m\n\u001b[0;32m    139\u001b[0m \u001b[38;5;28;01mwith\u001b[39;00m _config_lock:\n\u001b[1;32m--> 140\u001b[0m     config_options \u001b[38;5;241m=\u001b[39m \u001b[43mget_config_options\u001b[49m\u001b[43m(\u001b[49m\u001b[43m)\u001b[49m\n\u001b[0;32m    142\u001b[0m     \u001b[38;5;28;01mif\u001b[39;00m key \u001b[38;5;129;01mnot\u001b[39;00m \u001b[38;5;129;01min\u001b[39;00m config_options:\n\u001b[0;32m    143\u001b[0m         \u001b[38;5;28;01mraise\u001b[39;00m \u001b[38;5;167;01mRuntimeError\u001b[39;00m(\u001b[38;5;124m'\u001b[39m\u001b[38;5;124mConfig key \u001b[39m\u001b[38;5;124m\"\u001b[39m\u001b[38;5;132;01m%s\u001b[39;00m\u001b[38;5;124m\"\u001b[39m\u001b[38;5;124m not defined.\u001b[39m\u001b[38;5;124m'\u001b[39m \u001b[38;5;241m%\u001b[39m key)\n",
      "File \u001b[1;32m~\\anaconda3\\lib\\site-packages\\streamlit\\config.py:1102\u001b[0m, in \u001b[0;36mget_config_options\u001b[1;34m(force_reparse, options_from_flags)\u001b[0m\n\u001b[0;32m   1099\u001b[0m     \u001b[38;5;28;01mwith\u001b[39;00m \u001b[38;5;28mopen\u001b[39m(filename, \u001b[38;5;124m\"\u001b[39m\u001b[38;5;124mr\u001b[39m\u001b[38;5;124m\"\u001b[39m, encoding\u001b[38;5;241m=\u001b[39m\u001b[38;5;124m\"\u001b[39m\u001b[38;5;124mutf-8\u001b[39m\u001b[38;5;124m\"\u001b[39m) \u001b[38;5;28;01mas\u001b[39;00m \u001b[38;5;28minput\u001b[39m:\n\u001b[0;32m   1100\u001b[0m         file_contents \u001b[38;5;241m=\u001b[39m \u001b[38;5;28minput\u001b[39m\u001b[38;5;241m.\u001b[39mread()\n\u001b[1;32m-> 1102\u001b[0m     \u001b[43m_update_config_with_toml\u001b[49m\u001b[43m(\u001b[49m\u001b[43mfile_contents\u001b[49m\u001b[43m,\u001b[49m\u001b[43m \u001b[49m\u001b[43mfilename\u001b[49m\u001b[43m)\u001b[49m\n\u001b[0;32m   1104\u001b[0m \u001b[38;5;28;01mfor\u001b[39;00m opt_name, opt_val \u001b[38;5;129;01min\u001b[39;00m options_from_flags\u001b[38;5;241m.\u001b[39mitems():\n\u001b[0;32m   1105\u001b[0m     _set_option(opt_name, opt_val, _DEFINED_BY_FLAG)\n",
      "File \u001b[1;32m~\\anaconda3\\lib\\site-packages\\streamlit\\config.py:980\u001b[0m, in \u001b[0;36m_update_config_with_toml\u001b[1;34m(raw_toml, where_defined)\u001b[0m\n\u001b[0;32m    967\u001b[0m \u001b[38;5;28;01mdef\u001b[39;00m \u001b[38;5;21m_update_config_with_toml\u001b[39m(raw_toml: \u001b[38;5;28mstr\u001b[39m, where_defined: \u001b[38;5;28mstr\u001b[39m) \u001b[38;5;241m-\u001b[39m\u001b[38;5;241m>\u001b[39m \u001b[38;5;28;01mNone\u001b[39;00m:\n\u001b[0;32m    968\u001b[0m     \u001b[38;5;124;03m\"\"\"Update the config system by parsing this string.\u001b[39;00m\n\u001b[0;32m    969\u001b[0m \n\u001b[0;32m    970\u001b[0m \u001b[38;5;124;03m    This should only be called from get_config_options.\u001b[39;00m\n\u001b[1;32m   (...)\u001b[0m\n\u001b[0;32m    978\u001b[0m \n\u001b[0;32m    979\u001b[0m \u001b[38;5;124;03m    \"\"\"\u001b[39;00m\n\u001b[1;32m--> 980\u001b[0m     parsed_config_file \u001b[38;5;241m=\u001b[39m \u001b[43mtoml\u001b[49m\u001b[38;5;241;43m.\u001b[39;49m\u001b[43mloads\u001b[49m\u001b[43m(\u001b[49m\u001b[43mraw_toml\u001b[49m\u001b[43m)\u001b[49m\n\u001b[0;32m    982\u001b[0m     \u001b[38;5;28;01mfor\u001b[39;00m section, options \u001b[38;5;129;01min\u001b[39;00m parsed_config_file\u001b[38;5;241m.\u001b[39mitems():\n\u001b[0;32m    983\u001b[0m         \u001b[38;5;28;01mfor\u001b[39;00m name, value \u001b[38;5;129;01min\u001b[39;00m options\u001b[38;5;241m.\u001b[39mitems():\n",
      "File \u001b[1;32m~\\anaconda3\\lib\\site-packages\\toml\\decoder.py:213\u001b[0m, in \u001b[0;36mloads\u001b[1;34m(s, _dict, decoder)\u001b[0m\n\u001b[0;32m    211\u001b[0m key \u001b[38;5;241m+\u001b[39m\u001b[38;5;241m=\u001b[39m item\n\u001b[0;32m    212\u001b[0m \u001b[38;5;28;01mif\u001b[39;00m item \u001b[38;5;241m==\u001b[39m \u001b[38;5;124m'\u001b[39m\u001b[38;5;130;01m\\n\u001b[39;00m\u001b[38;5;124m'\u001b[39m:\n\u001b[1;32m--> 213\u001b[0m     \u001b[38;5;28;01mraise\u001b[39;00m TomlDecodeError(\u001b[38;5;124m\"\u001b[39m\u001b[38;5;124mKey name found without value.\u001b[39m\u001b[38;5;124m\"\u001b[39m\n\u001b[0;32m    214\u001b[0m                           \u001b[38;5;124m\"\u001b[39m\u001b[38;5;124m Reached end of line.\u001b[39m\u001b[38;5;124m\"\u001b[39m, original, i)\n\u001b[0;32m    215\u001b[0m \u001b[38;5;28;01mif\u001b[39;00m openstring:\n\u001b[0;32m    216\u001b[0m     \u001b[38;5;28;01mif\u001b[39;00m item \u001b[38;5;241m==\u001b[39m openstrchar:\n",
      "\u001b[1;31mTomlDecodeError\u001b[0m: Key name found without value. Reached end of line. (line 1 column 4 char 3)"
     ]
    }
   ],
   "source": [
    "import streamlit as st\n",
    "st.write(\"\"\"\n",
    "         # Apple Freshness Grading\n",
    "         \"\"\"\n",
    "         )\n",
    "st.write(\"This system is able to classify apple into 3 categories : fresh, medium fresh, rotten.\")\n",
    "st.write(\"It may not be 100% accurate but it is still reliable.\")\n",
    "\n",
    "file = st.file_uploader(\"Please upload an image file\", type=[\"jpg\", \"png\"])"
   ]
  },
  {
   "cell_type": "code",
   "execution_count": null,
   "id": "624c733b",
   "metadata": {},
   "outputs": [],
   "source": [
    "import cv2\n",
    "from PIL import Image, ImageOps\n",
    "import numpy as np\n",
    "def import_and_predict(image_data, model):\n",
    "    \n",
    "        size = (224,224)    \n",
    "        image = ImageOps.fit(image_data, size, Image.ANTIALIAS)\n",
    "        image = np.asarray(image)\n",
    "        img = cv2.cvtColor(image, cv2.COLOR_BGR2RGB)\n",
    "        img_resize = (cv2.resize(img, dsize=(224, 224),    interpolation=cv2.INTER_CUBIC))/255.\n",
    "        \n",
    "        img_reshape = img_resize[np.newaxis,...]\n",
    "    \n",
    "        prediction = model.predict(img_reshape)\n",
    "        \n",
    "        return prediction\n",
    "if file is None:\n",
    "    st.text(\"Please upload an image file\")\n",
    "else:\n",
    "    image = Image.open(file)\n",
    "    st.image(image, use_column_width=True)\n",
    "    prediction = import_and_predict(image, model)\n",
    "    \n",
    "    if np.argmax(prediction) == 0:\n",
    "        st.write(\"It is a fresh apple!\")\n",
    "    elif np.argmax(prediction) == 1:\n",
    "        st.write(\"It is a medium fresh apple!\")\n",
    "    else:\n",
    "        st.write(\"It is a rotten apple!\")\n",
    "    \n",
    "    st.text(\"Probability (0: freshapples, 1: mediumfresh, 2: rottenapples\")\n",
    "    st.write(prediction)"
   ]
  },
  {
   "cell_type": "code",
   "execution_count": null,
   "id": "bbf2d881",
   "metadata": {},
   "outputs": [],
   "source": [
    "! streamlit run gui_applefreshness.py\n"
   ]
  },
  {
   "cell_type": "code",
   "execution_count": null,
   "id": "3bc03720",
   "metadata": {},
   "outputs": [],
   "source": []
  },
  {
   "cell_type": "code",
   "execution_count": null,
   "id": "17a06df8",
   "metadata": {},
   "outputs": [],
   "source": []
  }
 ],
 "metadata": {
  "kernelspec": {
   "display_name": "Python 3 (ipykernel)",
   "language": "python",
   "name": "python3"
  },
  "language_info": {
   "codemirror_mode": {
    "name": "ipython",
    "version": 3
   },
   "file_extension": ".py",
   "mimetype": "text/x-python",
   "name": "python",
   "nbconvert_exporter": "python",
   "pygments_lexer": "ipython3",
   "version": "3.9.12"
  }
 },
 "nbformat": 4,
 "nbformat_minor": 5
}
